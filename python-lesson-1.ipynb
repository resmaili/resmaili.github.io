{
 "cells": [
  {
   "cell_type": "markdown",
   "metadata": {},
   "source": [
    "# Python Lesson 1"
   ]
  },
  {
   "cell_type": "markdown",
   "metadata": {},
   "source": [
    "## Agenda\n",
    "\n",
    "1. Why Python?\n",
    "2. Objectives\n",
    "3. Setting up your development environment"
   ]
  },
  {
   "cell_type": "markdown",
   "metadata": {},
   "source": [
    "## Why Python?\n",
    "\n",
    "Pros\n",
    "* General-purpose, cross-platform\n",
    "* Free and open source\n",
    "* Resaonably easy to learn, good statistical/visualization libraries\n",
    "* Forces good syntax\n",
    "* Reads satellite data formats like HDF, NetCDF, GRIB\n",
    "\n",
    "Cons\n",
    "* Performance penalties for interpretted languages (although cython and f2py libriries can be used)\n",
    "* Libraries are a \"black box\" and can be discontinued\n",
    "\n",
    "Other options:\n",
    "* R: Specialized for statistics but prevalent in earth sciences. Python has borrowed some of the best R features (e.g. data frames).\n",
    "* Fortran/C++: Most common in algorithm development, lots of legacy code. Speed +100, coding productivity -100 \n",
    "* Matlab: License expensive (Octave is a reasonable alternative)\n",
    "* IDL: Licenses expensive, there are better options out there"
   ]
  }
 ],
 "metadata": {
  "kernelspec": {
   "display_name": "Python 3",
   "language": "python",
   "name": "python3"
  },
  "language_info": {
   "codemirror_mode": {
    "name": "ipython",
    "version": 3
   },
   "file_extension": ".py",
   "mimetype": "text/x-python",
   "name": "python",
   "nbconvert_exporter": "python",
   "pygments_lexer": "ipython3",
   "version": "3.7.0"
  }
 },
 "nbformat": 4,
 "nbformat_minor": 2
}
